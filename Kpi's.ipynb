{
 "cells": [
  {
   "cell_type": "markdown",
   "metadata": {},
   "source": [
    "## ***<center>KPI's</center>***"
   ]
  },
  {
   "cell_type": "markdown",
   "metadata": {},
   "source": [
    "**<center>En el presente notebook, desarrollaremos los KPI's solicitados y metricas (en caso de ser necesario) para desarrollo de los mismos</center>**"
   ]
  },
  {
   "cell_type": "markdown",
   "metadata": {},
   "source": [
    "***"
   ]
  },
  {
   "cell_type": "code",
   "execution_count": 50,
   "metadata": {},
   "outputs": [],
   "source": [
    "# importacion de librerias necesarias: \n",
    "import pandas as pd\n",
    "import numpy as np\n",
    "import datetime\n",
    "import matplotlib.pyplot as plt"
   ]
  },
  {
   "cell_type": "code",
   "execution_count": 51,
   "metadata": {},
   "outputs": [],
   "source": [
    "# lectura de los archivos: \n",
    "homicidios = pd.read_csv(r'Data/homicidios_fatal.csv')\n",
    "lesiones = pd.read_csv(r'Data/lesiones_df.csv')"
   ]
  },
  {
   "cell_type": "code",
   "execution_count": 52,
   "metadata": {},
   "outputs": [],
   "source": [
    "homicidios['fecha'] = pd.to_datetime(homicidios['fecha'])\n",
    "lesiones['fecha_y'] = pd.to_datetime(lesiones['fecha_y'])"
   ]
  },
  {
   "cell_type": "markdown",
   "metadata": {},
   "source": [
    "* ***concatenaremos ambos DataFrame realizando previas transformaciones en los nombres de las columnas para poder calcular los KPI's***"
   ]
  },
  {
   "cell_type": "code",
   "execution_count": 53,
   "metadata": {},
   "outputs": [
    {
     "name": "stdout",
     "output_type": "stream",
     "text": [
      "columnas homicidios:  Index(['id_hecho', 'n_victimas', 'fecha', 'franja_horaria',\n",
      "       'direccion_normalizada', 'comuna', 'longitud', 'latitud', 'victima',\n",
      "       'acusado', 'rol', 'sexo', 'edad', 'gravedad', 'dia_semana'],\n",
      "      dtype='object')\n",
      "columnas lesiones:  Index(['id_hecho', 'n_victimas', 'franja_hora', 'comuna', 'tipo_calle',\n",
      "       'otra_direccion', 'longitud', 'latitud', 'victima', 'acusado',\n",
      "       'gravedad', 'fecha_y', 'sexo', 'edad'],\n",
      "      dtype='object')\n"
     ]
    }
   ],
   "source": [
    "print('columnas homicidios: ', homicidios.columns)\n",
    "print('columnas lesiones: ', lesiones.columns)"
   ]
  },
  {
   "cell_type": "code",
   "execution_count": 54,
   "metadata": {},
   "outputs": [],
   "source": [
    "lesiones.rename(columns= {'franja_hora' : 'franja_horaria', 'fecha_y': 'fecha', 'otra_direccion': 'direccion_normalizada'}, inplace= True)"
   ]
  },
  {
   "cell_type": "code",
   "execution_count": 55,
   "metadata": {},
   "outputs": [],
   "source": [
    "siniestros = pd.concat([homicidios, lesiones])"
   ]
  },
  {
   "cell_type": "code",
   "execution_count": 56,
   "metadata": {},
   "outputs": [],
   "source": [
    "siniestros.to_csv('Data/siniestros.csv', index=False)"
   ]
  },
  {
   "cell_type": "code",
   "execution_count": 57,
   "metadata": {},
   "outputs": [
    {
     "name": "stdout",
     "output_type": "stream",
     "text": [
      "<class 'pandas.core.frame.DataFrame'>\n",
      "Index: 28315 entries, 0 to 27597\n",
      "Data columns (total 16 columns):\n",
      " #   Column                 Non-Null Count  Dtype         \n",
      "---  ------                 --------------  -----         \n",
      " 0   id_hecho               28315 non-null  object        \n",
      " 1   n_victimas             28315 non-null  int64         \n",
      " 2   fecha                  28315 non-null  datetime64[ns]\n",
      " 3   franja_horaria         28307 non-null  float64       \n",
      " 4   direccion_normalizada  7177 non-null   object        \n",
      " 5   comuna                 27201 non-null  object        \n",
      " 6   longitud               26659 non-null  object        \n",
      " 7   latitud                26659 non-null  object        \n",
      " 8   victima                15484 non-null  object        \n",
      " 9   acusado                10374 non-null  object        \n",
      " 10  rol                    706 non-null    object        \n",
      " 11  sexo                   26081 non-null  object        \n",
      " 12  edad                   23791 non-null  float64       \n",
      " 13  gravedad               28315 non-null  object        \n",
      " 14  dia_semana             717 non-null    object        \n",
      " 15  tipo_calle             14719 non-null  object        \n",
      "dtypes: datetime64[ns](1), float64(2), int64(1), object(12)\n",
      "memory usage: 3.7+ MB\n"
     ]
    }
   ],
   "source": [
    "siniestros.info()"
   ]
  },
  {
   "cell_type": "code",
   "execution_count": 58,
   "metadata": {},
   "outputs": [],
   "source": [
    "siniestros['gravedad'].replace({'GRAVE': 'grave', 'FATAL': 'fatal'}, inplace=True)\n"
   ]
  },
  {
   "cell_type": "code",
   "execution_count": 59,
   "metadata": {},
   "outputs": [
    {
     "data": {
      "text/plain": [
       "array(['fatal', 'lesionado', 'leve', 'grave'], dtype=object)"
      ]
     },
     "execution_count": 59,
     "metadata": {},
     "output_type": "execute_result"
    }
   ],
   "source": [
    "siniestros['gravedad'].unique()"
   ]
  },
  {
   "cell_type": "markdown",
   "metadata": {},
   "source": [
    "## **1)**"
   ]
  },
  {
   "cell_type": "markdown",
   "metadata": {},
   "source": [
    "*  **Reducir en un 10% la tasa de homicidios en siniestros viales de los últimos seis meses, en CABA, en comparación con la tasa de homicidios en siniestros viales del semestre anterior:**\n",
    "    - Definimos a la tasa de homicidios en siniestros viales como el número de víctimas fatales en accidentes de tránsito por cada 100,000 habitantes en un área geográfica durante un período de tiempo específico. Su fórmula es: "
   ]
  },
  {
   "cell_type": "markdown",
   "metadata": {},
   "source": [
    "$$\n",
    "\\text{Tasa de homicidios en siniestros viales} = \\left( \\frac{\\text{Número de homicidios en siniestros viales}}{\\text{Población total}} \\right) \\times 100{,}000\n",
    "$$\n"
   ]
  },
  {
   "cell_type": "code",
   "execution_count": 60,
   "metadata": {},
   "outputs": [],
   "source": [
    "# creo una funcion para asignar el semestre \n",
    "def asignar_semestre(fecha):\n",
    "    if fecha.month <= 6:\n",
    "        return 1  # Primer semestre\n",
    "    else:\n",
    "        return 2  # Segundo semestre"
   ]
  },
  {
   "cell_type": "code",
   "execution_count": 61,
   "metadata": {},
   "outputs": [],
   "source": [
    "# Agrego la columna 'semestre' utilizando la función anterior\n",
    "siniestros['semestre'] = siniestros['fecha'].apply(asignar_semestre)"
   ]
  },
  {
   "cell_type": "code",
   "execution_count": 62,
   "metadata": {},
   "outputs": [],
   "source": [
    "siniestros['anio'] = siniestros['fecha'].dt.year # extraigo el año de la columna fecha"
   ]
  },
  {
   "cell_type": "code",
   "execution_count": 63,
   "metadata": {},
   "outputs": [],
   "source": [
    "# agrupo por año, semestre y magnitud de la gravedad creando un nuevo df para el kpi1\n",
    "kpi1 = siniestros.groupby(['anio','semestre','gravedad']).size().reset_index(name= 'cantidad_homicidios')"
   ]
  },
  {
   "cell_type": "code",
   "execution_count": 64,
   "metadata": {},
   "outputs": [],
   "source": [
    "kpi1 = kpi1[kpi1['gravedad'] == 'fatal']"
   ]
  },
  {
   "cell_type": "code",
   "execution_count": 65,
   "metadata": {},
   "outputs": [],
   "source": [
    "kpi1['semestre_anterior'] = kpi1['cantidad_homicidios'].shift(periods=1, fill_value=0)"
   ]
  },
  {
   "cell_type": "code",
   "execution_count": 66,
   "metadata": {},
   "outputs": [],
   "source": [
    "kpi1['Tasa Actual'] = (kpi1['cantidad_homicidios']/3121707) * 100000\n",
    "kpi1['Tasa Anterior'] = (kpi1['semestre_anterior']/3121707) * 100000"
   ]
  },
  {
   "cell_type": "code",
   "execution_count": 68,
   "metadata": {},
   "outputs": [],
   "source": [
    "kpi1['variacion%'] = (kpi1['cantidad_homicidios'] - kpi1['semestre_anterior']) / kpi1['semestre_anterior'] * 100\n",
    "kpi1['variacion%'] = (kpi1['Tasa Actual'] - kpi1['Tasa Anterior']) / kpi1['Tasa Anterior'] * 100"
   ]
  },
  {
   "cell_type": "code",
   "execution_count": 69,
   "metadata": {},
   "outputs": [
    {
     "data": {
      "text/html": [
       "<div>\n",
       "<style scoped>\n",
       "    .dataframe tbody tr th:only-of-type {\n",
       "        vertical-align: middle;\n",
       "    }\n",
       "\n",
       "    .dataframe tbody tr th {\n",
       "        vertical-align: top;\n",
       "    }\n",
       "\n",
       "    .dataframe thead th {\n",
       "        text-align: right;\n",
       "    }\n",
       "</style>\n",
       "<table border=\"1\" class=\"dataframe\">\n",
       "  <thead>\n",
       "    <tr style=\"text-align: right;\">\n",
       "      <th></th>\n",
       "      <th>anio</th>\n",
       "      <th>semestre</th>\n",
       "      <th>gravedad</th>\n",
       "      <th>cantidad_homicidios</th>\n",
       "      <th>semestre_anterior</th>\n",
       "      <th>Tasa Actual</th>\n",
       "      <th>Tasa Anterior</th>\n",
       "      <th>variacion%</th>\n",
       "    </tr>\n",
       "  </thead>\n",
       "  <tbody>\n",
       "    <tr>\n",
       "      <th>0</th>\n",
       "      <td>2016</td>\n",
       "      <td>1</td>\n",
       "      <td>fatal</td>\n",
       "      <td>46</td>\n",
       "      <td>0</td>\n",
       "      <td>1.473553</td>\n",
       "      <td>0.000000</td>\n",
       "      <td>inf</td>\n",
       "    </tr>\n",
       "    <tr>\n",
       "      <th>2</th>\n",
       "      <td>2016</td>\n",
       "      <td>2</td>\n",
       "      <td>fatal</td>\n",
       "      <td>38</td>\n",
       "      <td>46</td>\n",
       "      <td>1.217283</td>\n",
       "      <td>1.473553</td>\n",
       "      <td>-17.391304</td>\n",
       "    </tr>\n",
       "    <tr>\n",
       "      <th>4</th>\n",
       "      <td>2017</td>\n",
       "      <td>1</td>\n",
       "      <td>fatal</td>\n",
       "      <td>68</td>\n",
       "      <td>38</td>\n",
       "      <td>2.178295</td>\n",
       "      <td>1.217283</td>\n",
       "      <td>78.947368</td>\n",
       "    </tr>\n",
       "    <tr>\n",
       "      <th>6</th>\n",
       "      <td>2017</td>\n",
       "      <td>2</td>\n",
       "      <td>fatal</td>\n",
       "      <td>66</td>\n",
       "      <td>68</td>\n",
       "      <td>2.114228</td>\n",
       "      <td>2.178295</td>\n",
       "      <td>-2.941176</td>\n",
       "    </tr>\n",
       "    <tr>\n",
       "      <th>8</th>\n",
       "      <td>2018</td>\n",
       "      <td>1</td>\n",
       "      <td>fatal</td>\n",
       "      <td>70</td>\n",
       "      <td>66</td>\n",
       "      <td>2.242363</td>\n",
       "      <td>2.114228</td>\n",
       "      <td>6.060606</td>\n",
       "    </tr>\n",
       "    <tr>\n",
       "      <th>9</th>\n",
       "      <td>2018</td>\n",
       "      <td>2</td>\n",
       "      <td>fatal</td>\n",
       "      <td>79</td>\n",
       "      <td>70</td>\n",
       "      <td>2.530667</td>\n",
       "      <td>2.242363</td>\n",
       "      <td>12.857143</td>\n",
       "    </tr>\n",
       "    <tr>\n",
       "      <th>10</th>\n",
       "      <td>2019</td>\n",
       "      <td>1</td>\n",
       "      <td>fatal</td>\n",
       "      <td>57</td>\n",
       "      <td>79</td>\n",
       "      <td>1.825924</td>\n",
       "      <td>2.530667</td>\n",
       "      <td>-27.848101</td>\n",
       "    </tr>\n",
       "    <tr>\n",
       "      <th>13</th>\n",
       "      <td>2019</td>\n",
       "      <td>2</td>\n",
       "      <td>fatal</td>\n",
       "      <td>47</td>\n",
       "      <td>57</td>\n",
       "      <td>1.505587</td>\n",
       "      <td>1.825924</td>\n",
       "      <td>-17.543860</td>\n",
       "    </tr>\n",
       "    <tr>\n",
       "      <th>16</th>\n",
       "      <td>2020</td>\n",
       "      <td>1</td>\n",
       "      <td>fatal</td>\n",
       "      <td>32</td>\n",
       "      <td>47</td>\n",
       "      <td>1.025080</td>\n",
       "      <td>1.505587</td>\n",
       "      <td>-31.914894</td>\n",
       "    </tr>\n",
       "    <tr>\n",
       "      <th>19</th>\n",
       "      <td>2020</td>\n",
       "      <td>2</td>\n",
       "      <td>fatal</td>\n",
       "      <td>51</td>\n",
       "      <td>32</td>\n",
       "      <td>1.633722</td>\n",
       "      <td>1.025080</td>\n",
       "      <td>59.375000</td>\n",
       "    </tr>\n",
       "    <tr>\n",
       "      <th>22</th>\n",
       "      <td>2021</td>\n",
       "      <td>1</td>\n",
       "      <td>fatal</td>\n",
       "      <td>55</td>\n",
       "      <td>51</td>\n",
       "      <td>1.761857</td>\n",
       "      <td>1.633722</td>\n",
       "      <td>7.843137</td>\n",
       "    </tr>\n",
       "    <tr>\n",
       "      <th>25</th>\n",
       "      <td>2021</td>\n",
       "      <td>2</td>\n",
       "      <td>fatal</td>\n",
       "      <td>42</td>\n",
       "      <td>55</td>\n",
       "      <td>1.345418</td>\n",
       "      <td>1.761857</td>\n",
       "      <td>-23.636364</td>\n",
       "    </tr>\n",
       "  </tbody>\n",
       "</table>\n",
       "</div>"
      ],
      "text/plain": [
       "    anio  semestre gravedad  cantidad_homicidios  semestre_anterior  \\\n",
       "0   2016         1    fatal                   46                  0   \n",
       "2   2016         2    fatal                   38                 46   \n",
       "4   2017         1    fatal                   68                 38   \n",
       "6   2017         2    fatal                   66                 68   \n",
       "8   2018         1    fatal                   70                 66   \n",
       "9   2018         2    fatal                   79                 70   \n",
       "10  2019         1    fatal                   57                 79   \n",
       "13  2019         2    fatal                   47                 57   \n",
       "16  2020         1    fatal                   32                 47   \n",
       "19  2020         2    fatal                   51                 32   \n",
       "22  2021         1    fatal                   55                 51   \n",
       "25  2021         2    fatal                   42                 55   \n",
       "\n",
       "    Tasa Actual  Tasa Anterior  variacion%  \n",
       "0      1.473553       0.000000         inf  \n",
       "2      1.217283       1.473553  -17.391304  \n",
       "4      2.178295       1.217283   78.947368  \n",
       "6      2.114228       2.178295   -2.941176  \n",
       "8      2.242363       2.114228    6.060606  \n",
       "9      2.530667       2.242363   12.857143  \n",
       "10     1.825924       2.530667  -27.848101  \n",
       "13     1.505587       1.825924  -17.543860  \n",
       "16     1.025080       1.505587  -31.914894  \n",
       "19     1.633722       1.025080   59.375000  \n",
       "22     1.761857       1.633722    7.843137  \n",
       "25     1.345418       1.761857  -23.636364  "
      ]
     },
     "execution_count": 69,
     "metadata": {},
     "output_type": "execute_result"
    }
   ],
   "source": [
    "kpi1 "
   ]
  },
  {
   "cell_type": "markdown",
   "metadata": {},
   "source": [
    "dado que necesitamos el dato de la poblacion total, visitamos el sitio oficial de [INDEC](https://www.indec.gob.ar/indec/web/Nivel4-Tema-2-41-165) (Instituto Nacional de Estadisticas y Censos) cuadro 1.1 para encontrar los siguientes datos: "
   ]
  },
  {
   "cell_type": "markdown",
   "metadata": {},
   "source": [
    "<p align=\"center\">\n",
    "    <img src=\"images/poblacion.png\">\n",
    "</p>"
   ]
  },
  {
   "cell_type": "markdown",
   "metadata": {},
   "source": [
    "como podemos observar, segun el censo en 2022, la poblacion es de un total de 3.121.707 en CABA y teniendo en cuenta que los censos son realizados el primer mes del año, consideramos dato acertivo la cantidad de habitantes para el año 2021.\n",
    "\n",
    "- estos datos sera utilizados en nuestro calculo del KPI en Power Bi"
   ]
  },
  {
   "cell_type": "code",
   "execution_count": 70,
   "metadata": {},
   "outputs": [],
   "source": [
    "kpi1.to_csv('kpi1.csv', index = False)"
   ]
  },
  {
   "cell_type": "markdown",
   "metadata": {},
   "source": [
    "***"
   ]
  },
  {
   "cell_type": "markdown",
   "metadata": {},
   "source": [
    "### **2)**"
   ]
  },
  {
   "cell_type": "markdown",
   "metadata": {},
   "source": [
    "* **Reducir en un 7% la cantidad de accidentes mortales de motociclistas en el último año, en CABA, respecto al año anterior.**\n",
    "    - Definimos a la cantidad de accidentes mortales de motociclistas en siniestros viales como el número absoluto de accidentes fatales en los que estuvieron involucradas víctimas que viajaban en moto en un determinado periodo temporal. Su fórmula para medir la evolución de los accidentes mortales con víctimas en moto es:"
   ]
  },
  {
   "cell_type": "markdown",
   "metadata": {},
   "source": [
    "$$\n",
    "\\text{Δ accidentes mortales en moto} = \\left( \\frac{\\text{N° accidentes mortales en moto en el año anterior} - \\text{N° accidentes mortales en moto en el año actual}}{\\text{N° accidentes mortales en moto en el año anterior}} \\right) \\times 100\n",
    "$$\n"
   ]
  },
  {
   "cell_type": "code",
   "execution_count": 52,
   "metadata": {},
   "outputs": [
    {
     "data": {
      "text/plain": [
       "Index(['id_hecho', 'n_victimas', 'fecha', 'franja_horaria',\n",
       "       'direccion_normalizada', 'comuna', 'longitud', 'latitud', 'victima',\n",
       "       'acusado', 'rol', 'sexo', 'edad', 'gravedad', 'dia_semana',\n",
       "       'tipo_calle', 'semestre', 'anio'],\n",
       "      dtype='object')"
      ]
     },
     "execution_count": 52,
     "metadata": {},
     "output_type": "execute_result"
    }
   ],
   "source": [
    "siniestros.columns"
   ]
  },
  {
   "cell_type": "code",
   "execution_count": 53,
   "metadata": {},
   "outputs": [
    {
     "data": {
      "text/plain": [
       "array(['MOTO', 'AUTO', 'PEATON', nan, 'CARGAS', 'BICICLETA', 'PASAJEROS',\n",
       "       'MOVIL', 'OBJETO FIJO', 'PEATON_MOTO', 'CICLISTA',\n",
       "       'TRANSPORTE PUBLICO', 'CAMIONETA', 'OTRO', 'CAMION', 'MONOPATIN',\n",
       "       'UTILITARIO', 'TAXI', 'MIXTO'], dtype=object)"
      ]
     },
     "execution_count": 53,
     "metadata": {},
     "output_type": "execute_result"
    }
   ],
   "source": [
    "siniestros['victima'].unique() # conozco como estan escritos los datos en la columna victima"
   ]
  },
  {
   "cell_type": "code",
   "execution_count": 44,
   "metadata": {},
   "outputs": [],
   "source": [
    "# Agrupo y creo un nuevo df para el kpi2\n",
    "kpi2 = siniestros.groupby(['anio','victima','gravedad']).size().reset_index(name= 'cantidad_homicidios') "
   ]
  },
  {
   "cell_type": "code",
   "execution_count": 45,
   "metadata": {},
   "outputs": [],
   "source": [
    "kpi2 = kpi2[kpi2['gravedad'] == 'fatal']\n"
   ]
  },
  {
   "cell_type": "code",
   "execution_count": 47,
   "metadata": {},
   "outputs": [],
   "source": [
    "#filtro por MOTO\n",
    "filtro_moto = kpi2[kpi2['victima'] == 'MOTO']\n",
    "kpi2 = filtro_moto.reset_index()\n"
   ]
  },
  {
   "cell_type": "code",
   "execution_count": 49,
   "metadata": {},
   "outputs": [],
   "source": [
    "kpi2.drop(columns=['index'], inplace = True) #elimino esa columna de mas"
   ]
  },
  {
   "cell_type": "code",
   "execution_count": 72,
   "metadata": {},
   "outputs": [],
   "source": [
    "kpi2['Anio anterior'] = kpi2['cantidad_homicidios'].shift(periods=1, fill_value=0)"
   ]
  },
  {
   "cell_type": "code",
   "execution_count": 73,
   "metadata": {},
   "outputs": [],
   "source": [
    "kpi2['Tasa Actual'] = (kpi2['cantidad_homicidios']/3121707) * 100000\n",
    "kpi2['Tasa Anterior'] = (kpi2['Anio anterior']/3121707) * 100000"
   ]
  },
  {
   "cell_type": "code",
   "execution_count": 74,
   "metadata": {},
   "outputs": [],
   "source": [
    "kpi2['variacion%'] = (kpi2['cantidad_homicidios'] - kpi2['Anio anterior']) / kpi2['Anio anterior'] * 100\n",
    "kpi2['variacion%'] = (kpi2['Tasa Actual'] - kpi2['Tasa Anterior']) / kpi2['Tasa Anterior'] * 100"
   ]
  },
  {
   "cell_type": "code",
   "execution_count": 75,
   "metadata": {},
   "outputs": [
    {
     "data": {
      "text/html": [
       "<div>\n",
       "<style scoped>\n",
       "    .dataframe tbody tr th:only-of-type {\n",
       "        vertical-align: middle;\n",
       "    }\n",
       "\n",
       "    .dataframe tbody tr th {\n",
       "        vertical-align: top;\n",
       "    }\n",
       "\n",
       "    .dataframe thead th {\n",
       "        text-align: right;\n",
       "    }\n",
       "</style>\n",
       "<table border=\"1\" class=\"dataframe\">\n",
       "  <thead>\n",
       "    <tr style=\"text-align: right;\">\n",
       "      <th></th>\n",
       "      <th>anio</th>\n",
       "      <th>victima</th>\n",
       "      <th>gravedad</th>\n",
       "      <th>cantidad_homicidios</th>\n",
       "      <th>Anio anterior</th>\n",
       "      <th>Tasa Actual</th>\n",
       "      <th>Tasa Anterior</th>\n",
       "      <th>variacion%</th>\n",
       "    </tr>\n",
       "  </thead>\n",
       "  <tbody>\n",
       "    <tr>\n",
       "      <th>0</th>\n",
       "      <td>2016</td>\n",
       "      <td>MOTO</td>\n",
       "      <td>fatal</td>\n",
       "      <td>37</td>\n",
       "      <td>0</td>\n",
       "      <td>1.185249</td>\n",
       "      <td>0.000000</td>\n",
       "      <td>inf</td>\n",
       "    </tr>\n",
       "    <tr>\n",
       "      <th>1</th>\n",
       "      <td>2017</td>\n",
       "      <td>MOTO</td>\n",
       "      <td>fatal</td>\n",
       "      <td>54</td>\n",
       "      <td>37</td>\n",
       "      <td>1.729823</td>\n",
       "      <td>1.185249</td>\n",
       "      <td>45.945946</td>\n",
       "    </tr>\n",
       "    <tr>\n",
       "      <th>2</th>\n",
       "      <td>2018</td>\n",
       "      <td>MOTO</td>\n",
       "      <td>fatal</td>\n",
       "      <td>57</td>\n",
       "      <td>54</td>\n",
       "      <td>1.825924</td>\n",
       "      <td>1.729823</td>\n",
       "      <td>5.555556</td>\n",
       "    </tr>\n",
       "    <tr>\n",
       "      <th>3</th>\n",
       "      <td>2019</td>\n",
       "      <td>MOTO</td>\n",
       "      <td>fatal</td>\n",
       "      <td>50</td>\n",
       "      <td>57</td>\n",
       "      <td>1.601688</td>\n",
       "      <td>1.825924</td>\n",
       "      <td>-12.280702</td>\n",
       "    </tr>\n",
       "    <tr>\n",
       "      <th>4</th>\n",
       "      <td>2020</td>\n",
       "      <td>MOTO</td>\n",
       "      <td>fatal</td>\n",
       "      <td>30</td>\n",
       "      <td>50</td>\n",
       "      <td>0.961013</td>\n",
       "      <td>1.601688</td>\n",
       "      <td>-40.000000</td>\n",
       "    </tr>\n",
       "    <tr>\n",
       "      <th>5</th>\n",
       "      <td>2021</td>\n",
       "      <td>MOTO</td>\n",
       "      <td>fatal</td>\n",
       "      <td>46</td>\n",
       "      <td>30</td>\n",
       "      <td>1.473553</td>\n",
       "      <td>0.961013</td>\n",
       "      <td>53.333333</td>\n",
       "    </tr>\n",
       "  </tbody>\n",
       "</table>\n",
       "</div>"
      ],
      "text/plain": [
       "   anio victima gravedad  cantidad_homicidios  Anio anterior  Tasa Actual  \\\n",
       "0  2016    MOTO    fatal                   37              0     1.185249   \n",
       "1  2017    MOTO    fatal                   54             37     1.729823   \n",
       "2  2018    MOTO    fatal                   57             54     1.825924   \n",
       "3  2019    MOTO    fatal                   50             57     1.601688   \n",
       "4  2020    MOTO    fatal                   30             50     0.961013   \n",
       "5  2021    MOTO    fatal                   46             30     1.473553   \n",
       "\n",
       "   Tasa Anterior  variacion%  \n",
       "0       0.000000         inf  \n",
       "1       1.185249   45.945946  \n",
       "2       1.729823    5.555556  \n",
       "3       1.825924  -12.280702  \n",
       "4       1.601688  -40.000000  \n",
       "5       0.961013   53.333333  "
      ]
     },
     "execution_count": 75,
     "metadata": {},
     "output_type": "execute_result"
    }
   ],
   "source": [
    "kpi2"
   ]
  },
  {
   "cell_type": "markdown",
   "metadata": {},
   "source": [
    "* exporto para posterior uso:"
   ]
  },
  {
   "cell_type": "code",
   "execution_count": 76,
   "metadata": {},
   "outputs": [],
   "source": [
    "kpi2.to_csv('kpi2.csv', index = False)"
   ]
  },
  {
   "cell_type": "markdown",
   "metadata": {},
   "source": [
    "***"
   ]
  },
  {
   "cell_type": "markdown",
   "metadata": {},
   "source": [
    "## **3)**\n",
    "\n",
    "*  **Reducir un 10% la tasa de mortalidad de la comuna 1 respecto al año anterior**\n",
    "    - se calcula de la siguiente manera: \n",
    "$$\n",
    "\\text{Δ  mortalidad anual} = \\left( \\frac{\\text{N° accidentes mortales en el año anterior comuna 1} - \\text{N° accidentes mortales en el año actual comuna 1}}{\\text{N° accidentes mortales en el año anterior comuna 1}} \\right) \\times 100\n",
    "$$\n",
    "\n"
   ]
  },
  {
   "cell_type": "markdown",
   "metadata": {},
   "source": [
    "* para este kpi necesitamos trabajar con los datos de comuna. A continuacion procedemos a tratar estos para su uso."
   ]
  },
  {
   "cell_type": "code",
   "execution_count": 59,
   "metadata": {},
   "outputs": [
    {
     "data": {
      "text/plain": [
       "array([8, 9, 1, 11, 15, 4, 7, 12, 3, 13, 14, 10, 6, 2, 5, '14', '8', '7',\n",
       "       '3', '15', '11', '9', '1', '4', '12', '2', '5', '6', '13', '10',\n",
       "       'No Especificada', nan], dtype=object)"
      ]
     },
     "execution_count": 59,
     "metadata": {},
     "output_type": "execute_result"
    }
   ],
   "source": [
    "siniestros['comuna'].unique()"
   ]
  },
  {
   "cell_type": "markdown",
   "metadata": {},
   "source": [
    "Como podemos observar, hay varios datos que son tipo str, o nan.\n",
    "- Para los datos 'No Especificada' los llevaremos a valor de comuna =  0 al igual que los datos nan.\n",
    "\n",
    "Esto a fines de poder trabajar unicamente con enteros "
   ]
  },
  {
   "cell_type": "code",
   "execution_count": 77,
   "metadata": {},
   "outputs": [],
   "source": [
    "siniestros['comuna'] = siniestros['comuna'].replace(['No Especificada', np.nan], 0)"
   ]
  },
  {
   "cell_type": "code",
   "execution_count": 78,
   "metadata": {},
   "outputs": [],
   "source": [
    "siniestros['comuna'] = siniestros['comuna'].astype(int)"
   ]
  },
  {
   "cell_type": "code",
   "execution_count": 79,
   "metadata": {},
   "outputs": [],
   "source": [
    "kpi3 = siniestros.groupby(['anio','gravedad','comuna']).size().reset_index(name= 'cantidad_homicidios')\n",
    "filtros = kpi3.loc[(kpi3['gravedad'] == 'fatal') & (kpi3['comuna'] == 1)]\n"
   ]
  },
  {
   "cell_type": "code",
   "execution_count": 80,
   "metadata": {},
   "outputs": [],
   "source": [
    "kpi3 = filtros.reset_index()"
   ]
  },
  {
   "cell_type": "code",
   "execution_count": 81,
   "metadata": {},
   "outputs": [],
   "source": [
    "kpi3.drop(columns=['index'], inplace = True)"
   ]
  },
  {
   "cell_type": "code",
   "execution_count": 82,
   "metadata": {},
   "outputs": [],
   "source": [
    "kpi3['Anio anterior'] = kpi3['cantidad_homicidios'].shift(periods=1, fill_value=0)"
   ]
  },
  {
   "cell_type": "code",
   "execution_count": 83,
   "metadata": {},
   "outputs": [],
   "source": [
    "kpi3['Tasa Actual'] = (kpi3['cantidad_homicidios']/3121707) * 100000\n",
    "kpi3['Tasa Anterior'] = (kpi3['Anio anterior']/3121707) * 100000"
   ]
  },
  {
   "cell_type": "code",
   "execution_count": 84,
   "metadata": {},
   "outputs": [],
   "source": [
    "kpi3['variacion%'] = (kpi3['cantidad_homicidios'] - kpi3['Anio anterior']) / kpi3['Anio anterior'] * 100\n",
    "kpi3['variacion%'] = (kpi3['Tasa Actual'] - kpi3['Tasa Anterior']) / kpi3['Tasa Anterior'] * 100"
   ]
  },
  {
   "cell_type": "code",
   "execution_count": 85,
   "metadata": {},
   "outputs": [
    {
     "data": {
      "text/html": [
       "<div>\n",
       "<style scoped>\n",
       "    .dataframe tbody tr th:only-of-type {\n",
       "        vertical-align: middle;\n",
       "    }\n",
       "\n",
       "    .dataframe tbody tr th {\n",
       "        vertical-align: top;\n",
       "    }\n",
       "\n",
       "    .dataframe thead th {\n",
       "        text-align: right;\n",
       "    }\n",
       "</style>\n",
       "<table border=\"1\" class=\"dataframe\">\n",
       "  <thead>\n",
       "    <tr style=\"text-align: right;\">\n",
       "      <th></th>\n",
       "      <th>anio</th>\n",
       "      <th>gravedad</th>\n",
       "      <th>comuna</th>\n",
       "      <th>cantidad_homicidios</th>\n",
       "      <th>Anio anterior</th>\n",
       "      <th>Tasa Actual</th>\n",
       "      <th>Tasa Anterior</th>\n",
       "      <th>variacion%</th>\n",
       "    </tr>\n",
       "  </thead>\n",
       "  <tbody>\n",
       "    <tr>\n",
       "      <th>0</th>\n",
       "      <td>2016</td>\n",
       "      <td>fatal</td>\n",
       "      <td>1</td>\n",
       "      <td>17</td>\n",
       "      <td>0</td>\n",
       "      <td>0.544574</td>\n",
       "      <td>0.000000</td>\n",
       "      <td>inf</td>\n",
       "    </tr>\n",
       "    <tr>\n",
       "      <th>1</th>\n",
       "      <td>2017</td>\n",
       "      <td>fatal</td>\n",
       "      <td>1</td>\n",
       "      <td>20</td>\n",
       "      <td>17</td>\n",
       "      <td>0.640675</td>\n",
       "      <td>0.544574</td>\n",
       "      <td>17.647059</td>\n",
       "    </tr>\n",
       "    <tr>\n",
       "      <th>2</th>\n",
       "      <td>2018</td>\n",
       "      <td>fatal</td>\n",
       "      <td>1</td>\n",
       "      <td>20</td>\n",
       "      <td>20</td>\n",
       "      <td>0.640675</td>\n",
       "      <td>0.640675</td>\n",
       "      <td>0.000000</td>\n",
       "    </tr>\n",
       "    <tr>\n",
       "      <th>3</th>\n",
       "      <td>2019</td>\n",
       "      <td>fatal</td>\n",
       "      <td>1</td>\n",
       "      <td>12</td>\n",
       "      <td>20</td>\n",
       "      <td>0.384405</td>\n",
       "      <td>0.640675</td>\n",
       "      <td>-40.000000</td>\n",
       "    </tr>\n",
       "    <tr>\n",
       "      <th>4</th>\n",
       "      <td>2020</td>\n",
       "      <td>fatal</td>\n",
       "      <td>1</td>\n",
       "      <td>10</td>\n",
       "      <td>12</td>\n",
       "      <td>0.320338</td>\n",
       "      <td>0.384405</td>\n",
       "      <td>-16.666667</td>\n",
       "    </tr>\n",
       "    <tr>\n",
       "      <th>5</th>\n",
       "      <td>2021</td>\n",
       "      <td>fatal</td>\n",
       "      <td>1</td>\n",
       "      <td>9</td>\n",
       "      <td>10</td>\n",
       "      <td>0.288304</td>\n",
       "      <td>0.320338</td>\n",
       "      <td>-10.000000</td>\n",
       "    </tr>\n",
       "  </tbody>\n",
       "</table>\n",
       "</div>"
      ],
      "text/plain": [
       "   anio gravedad  comuna  cantidad_homicidios  Anio anterior  Tasa Actual  \\\n",
       "0  2016    fatal       1                   17              0     0.544574   \n",
       "1  2017    fatal       1                   20             17     0.640675   \n",
       "2  2018    fatal       1                   20             20     0.640675   \n",
       "3  2019    fatal       1                   12             20     0.384405   \n",
       "4  2020    fatal       1                   10             12     0.320338   \n",
       "5  2021    fatal       1                    9             10     0.288304   \n",
       "\n",
       "   Tasa Anterior  variacion%  \n",
       "0       0.000000         inf  \n",
       "1       0.544574   17.647059  \n",
       "2       0.640675    0.000000  \n",
       "3       0.640675  -40.000000  \n",
       "4       0.384405  -16.666667  \n",
       "5       0.320338  -10.000000  "
      ]
     },
     "execution_count": 85,
     "metadata": {},
     "output_type": "execute_result"
    }
   ],
   "source": [
    "kpi3"
   ]
  },
  {
   "cell_type": "code",
   "execution_count": 86,
   "metadata": {},
   "outputs": [],
   "source": [
    "kpi3.to_csv('kpi3.csv', index = False)"
   ]
  }
 ],
 "metadata": {
  "kernelspec": {
   "display_name": "Python 3",
   "language": "python",
   "name": "python3"
  },
  "language_info": {
   "codemirror_mode": {
    "name": "ipython",
    "version": 3
   },
   "file_extension": ".py",
   "mimetype": "text/x-python",
   "name": "python",
   "nbconvert_exporter": "python",
   "pygments_lexer": "ipython3",
   "version": "3.10.11"
  }
 },
 "nbformat": 4,
 "nbformat_minor": 2
}
